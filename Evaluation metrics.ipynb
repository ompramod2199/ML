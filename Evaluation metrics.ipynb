{
 "cells": [
  {
   "cell_type": "code",
   "execution_count": 86,
   "id": "7464eac3",
   "metadata": {},
   "outputs": [],
   "source": [
    "from sklearn import datasets\n",
    "import pandas as pd\n",
    "import warnings\n",
    "warnings.filterwarnings(\"ignore\")"
   ]
  },
  {
   "cell_type": "code",
   "execution_count": 72,
   "id": "84fddfdc",
   "metadata": {},
   "outputs": [
    {
     "data": {
      "text/html": [
       "<div>\n",
       "<style scoped>\n",
       "    .dataframe tbody tr th:only-of-type {\n",
       "        vertical-align: middle;\n",
       "    }\n",
       "\n",
       "    .dataframe tbody tr th {\n",
       "        vertical-align: top;\n",
       "    }\n",
       "\n",
       "    .dataframe thead th {\n",
       "        text-align: right;\n",
       "    }\n",
       "</style>\n",
       "<table border=\"1\" class=\"dataframe\">\n",
       "  <thead>\n",
       "    <tr style=\"text-align: right;\">\n",
       "      <th></th>\n",
       "      <th>SepalLengthCm</th>\n",
       "      <th>SepalWidthCm</th>\n",
       "      <th>PetalLengthCm</th>\n",
       "      <th>PetalWidthCm</th>\n",
       "      <th>Species</th>\n",
       "    </tr>\n",
       "  </thead>\n",
       "  <tbody>\n",
       "    <tr>\n",
       "      <th>0</th>\n",
       "      <td>5.1</td>\n",
       "      <td>3.5</td>\n",
       "      <td>1.4</td>\n",
       "      <td>0.2</td>\n",
       "      <td>Iris-setosa</td>\n",
       "    </tr>\n",
       "    <tr>\n",
       "      <th>1</th>\n",
       "      <td>4.9</td>\n",
       "      <td>3.0</td>\n",
       "      <td>1.4</td>\n",
       "      <td>0.2</td>\n",
       "      <td>Iris-setosa</td>\n",
       "    </tr>\n",
       "    <tr>\n",
       "      <th>2</th>\n",
       "      <td>4.7</td>\n",
       "      <td>3.2</td>\n",
       "      <td>1.3</td>\n",
       "      <td>0.2</td>\n",
       "      <td>Iris-setosa</td>\n",
       "    </tr>\n",
       "    <tr>\n",
       "      <th>3</th>\n",
       "      <td>4.6</td>\n",
       "      <td>3.1</td>\n",
       "      <td>1.5</td>\n",
       "      <td>0.2</td>\n",
       "      <td>Iris-setosa</td>\n",
       "    </tr>\n",
       "    <tr>\n",
       "      <th>4</th>\n",
       "      <td>5.0</td>\n",
       "      <td>3.6</td>\n",
       "      <td>1.4</td>\n",
       "      <td>0.2</td>\n",
       "      <td>Iris-setosa</td>\n",
       "    </tr>\n",
       "  </tbody>\n",
       "</table>\n",
       "</div>"
      ],
      "text/plain": [
       "   SepalLengthCm  SepalWidthCm  PetalLengthCm  PetalWidthCm      Species\n",
       "0            5.1           3.5            1.4           0.2  Iris-setosa\n",
       "1            4.9           3.0            1.4           0.2  Iris-setosa\n",
       "2            4.7           3.2            1.3           0.2  Iris-setosa\n",
       "3            4.6           3.1            1.5           0.2  Iris-setosa\n",
       "4            5.0           3.6            1.4           0.2  Iris-setosa"
      ]
     },
     "execution_count": 72,
     "metadata": {},
     "output_type": "execute_result"
    }
   ],
   "source": [
    "df = pd.read_csv('https://raw.githubusercontent.com/Ompramod9921/Iris_classificaton/main/Iris.csv')\n",
    "df.drop(\"Id\",inplace=True,axis=1)\n",
    "df.head()"
   ]
  },
  {
   "cell_type": "code",
   "execution_count": 74,
   "id": "1cfab81f",
   "metadata": {},
   "outputs": [],
   "source": [
    "from sklearn.model_selection import train_test_split\n",
    "X_train, X_test, y_train, y_test = train_test_split(df[['SepalLengthCm','SepalWidthCm','PetalLengthCm','PetalWidthCm']],df['Species'], test_size=0.1)"
   ]
  },
  {
   "cell_type": "code",
   "execution_count": 77,
   "id": "2911a78d",
   "metadata": {},
   "outputs": [],
   "source": [
    "from sklearn import linear_model\n",
    "mymodel = linear_model.LogisticRegression(max_iter=120)\n",
    "mymodel.fit(X_train,y_train)\n",
    "y_pred = mymodel.predict(X_test)"
   ]
  },
  {
   "cell_type": "code",
   "execution_count": 93,
   "id": "50bd822b",
   "metadata": {},
   "outputs": [
    {
     "data": {
      "text/plain": [
       "array([[4, 0, 0],\n",
       "       [0, 3, 1],\n",
       "       [0, 0, 7]], dtype=int64)"
      ]
     },
     "execution_count": 93,
     "metadata": {},
     "output_type": "execute_result"
    }
   ],
   "source": [
    "from sklearn import metrics\n",
    "cf_matrix = metrics.confusion_matrix(y_test, y_pred)\n",
    "cf_matrix"
   ]
  },
  {
   "cell_type": "code",
   "execution_count": 92,
   "id": "3f194b04",
   "metadata": {},
   "outputs": [
    {
     "data": {
      "image/png": "[encoded data removed]",
      "text/plain": [
       "<Figure size 640x480 with 2 Axes>"
      ]
     },
     "metadata": {},
     "output_type": "display_data"
    }
   ],
   "source": [
    "import seaborn as sns\n",
    "import matplotlib.pyplot as plt\n",
    "\n",
    "ax = sns.heatmap(cf_matrix, annot=True, cmap='Blues')\n",
    "plt.show(ax)"
   ]
  },
  {
   "cell_type": "code",
   "execution_count": 78,
   "id": "9aa22c4c",
   "metadata": {},
   "outputs": [],
   "source": [
    "from sklearn.metrics import precision_score, recall_score, f1_score, accuracy_score"
   ]
  },
  {
   "cell_type": "code",
   "execution_count": 89,
   "id": "10b650ad",
   "metadata": {},
   "outputs": [
    {
     "name": "stdout",
     "output_type": "stream",
     "text": [
      "Recall: 0.933\n"
     ]
    }
   ],
   "source": [
    "print('Recall: %.3f' % recall_score(y_test, y_pred, \n",
    "                                           pos_label='positive',\n",
    "                                           average='micro'))"
   ]
  },
  {
   "cell_type": "code",
   "execution_count": 79,
   "id": "df34418f",
   "metadata": {},
   "outputs": [
    {
     "name": "stdout",
     "output_type": "stream",
     "text": [
      "Accuracy: 0.933\n"
     ]
    }
   ],
   "source": [
    "print('Accuracy: %.3f' % accuracy_score(y_test, y_pred))"
   ]
  },
  {
   "cell_type": "code",
   "execution_count": 87,
   "id": "4c9ef6ed",
   "metadata": {},
   "outputs": [
    {
     "name": "stdout",
     "output_type": "stream",
     "text": [
      "Precision: 0.933\n"
     ]
    }
   ],
   "source": [
    "print('Precision: %.3f' % precision_score(y_test, y_pred, \n",
    "                                           pos_label='positive',\n",
    "                                           average='micro'))"
   ]
  },
  {
   "cell_type": "code",
   "execution_count": 88,
   "id": "a28f8e4c",
   "metadata": {},
   "outputs": [
    {
     "name": "stdout",
     "output_type": "stream",
     "text": [
      "F1 Score: 0.933\n"
     ]
    }
   ],
   "source": [
    "print('F1 Score: %.3f' % f1_score(y_test, y_pred, \n",
    "                                           pos_label='positive',\n",
    "                                           average='micro'))"
   ]
  },
  {
   "cell_type": "markdown",
   "id": "43b4c0ce",
   "metadata": {},
   "source": [
    "Evaluating the performance of a Machine learning model is one of the important steps while building an effective ML model. To evaluate the performance or quality of the model, different metrics are used, and these metrics are known as performance metrics or evaluation metrics. These performance metrics help us understand how well our model has performed for the given data.\n",
    "\n",
    "Confusion Matrix:\n",
    "It Is A 2*2 Matrix That Shows Four Different Combinations Of Actual Value And Predicted Outcome. This Is Used For Binary Classification Problems.\n",
    "In general, the table is divided into four terminologies, which are as follows:\n",
    "True-Positive (TP): The Predicted Outcome Is Positive When Actually It Is Positive.\n",
    "False-Negative (FN): The Predicted Outcome Is Negative When It Is Actually Positive.\n",
    "True-Negative (TN): The Predicted Outcome Is Negative When Actually It Is Negative.\n",
    "False-Positive (FP): The Predicted Outcome Is Positive When Actually It Is Negative.\n",
    "\n",
    "Accuracy: \n",
    "It Is Defined As The Ratio Of Correct Predicted Values To The Total Number Of Predicted Values. Corrected Predicted Values Include Both Positive And Negative Values Which Are Predicted Correctly.\n",
    "\n",
    "Accuracy= Corrected Predicted Values/ Total Predicted Values\n",
    "\n",
    "From The Above Confusion Matrix,\n",
    "\n",
    "Accuracy = (TP+TN)/(TP+TN+FP+FN)\n",
    "\n",
    "The Value Of Accuracy Ranges From 0 To1. A Value Closer To 1 Indicates A Better Model.\n",
    "\n",
    "True Positive Rate Or TPR: The Ratio Of Actual Positive Predicted Values To The Total Actual Positive Values. The Range Varies From 0 To 1. The Higher The Value The Better Is The Model. This Is Also Called Sensitivity. \n",
    "\n",
    "TPR = TP/(TP+FN)\n",
    "\n",
    "False Negative Rate Or FNR: The Ratio Of Actual Positive, Predicted As Negative To Total Actual Positive Values. Lower The FNR Better Is The Model. This Is Also Called 1- Sensitivity \n",
    "\n",
    "FNR = FN/(TP+FN) \n",
    "\n",
    "True Negative Rate Or TNR: The Ratio Of Predicted Negative Values That Are Actually Negative To The Total Actual Negative Values.\n",
    "\n",
    "TNR= TN/ TN+FP\n",
    "\n",
    "It Is Also Refer Specificity. The Higher The Value The Better Is The Model.\n",
    "\n",
    "False Positive Rate Or FPR: The Ratio Of Actual Negative, Predicted As Positive To The Total Actual Negative Values.\n",
    "\n",
    "FPR =FP/ TN+FP\n",
    "\n",
    "It Is Known As 1- Specificity. Lower The Value Of FTR Better Is The Model.\n",
    "\n",
    "3. Recall:\n",
    "Out Of All Actual Positive Values, How Many Are Actually Predicted Positive.\n",
    "\n",
    "Recall =Predictions Positive/Total Actual Positive\n",
    "\n",
    "Recall = TP/TP+FN\n",
    "\n",
    "4. Precision: \n",
    "Out Of Total Positive Predicted Values How Many Are Actually Positive\n",
    "\n",
    "Precision= Predictions Actually Positive/ Total Predicted Positive\n",
    "\n",
    "Precision= TP/(TP+FP) \n",
    "\n",
    "Precision And Recall Are Select As Evaluation Matrix Depending On Business Scenario\n",
    "\n",
    "5. F1-Score: \n",
    "This Is A Combination Of Precision And Recall. It Can Be Define As The Harmonic Mean Of Precision And Recall. \n",
    "\n",
    "The Formula For F1-Score Is\n",
    "F1 Score = 2* [ (precision*recall) / (precision+recall)]\n",
    "The Value Ranges From 0 To 1. F1-Score Is Maximum When Precision = Recall"
   ]
  }
 ],
 "metadata": {
  "kernelspec": {
   "display_name": "Python 3 (ipykernel)",
   "language": "python",
   "name": "python3"
  },
  "language_info": {
   "codemirror_mode": {
    "name": "ipython",
    "version": 3
   },
   "file_extension": ".py",
   "mimetype": "text/x-python",
   "name": "python",
   "nbconvert_exporter": "python",
   "pygments_lexer": "ipython3",
   "version": "3.10.2"
  }
 },
 "nbformat": 4,
 "nbformat_minor": 5
}
